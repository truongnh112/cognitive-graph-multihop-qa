{
 "cells": [
  {
   "cell_type": "code",
   "execution_count": null,
   "metadata": {},
   "outputs": [],
   "source": [
    "from gg_search import GoogleSearch\n",
    "ggsearch = GoogleSearch()"
   ]
  },
  {
   "cell_type": "code",
   "execution_count": 5,
   "metadata": {},
   "outputs": [],
   "source": [
    "question = 'ai là người giàu nhất Việt Nam'\n"
   ]
  },
  {
   "cell_type": "code",
   "execution_count": null,
   "metadata": {},
   "outputs": [],
   "source": [
    "links, documents = ggsearch.search(question)\n",
    "for i in range(0,min(len(documents),5)):\n",
    "    print(\"Document\", i)\n",
    "    print(\"Link:\", links[i])\n",
    "    print(\"Sample content:\\n\", documents[i][:500],'.....')\n",
    "    print('\\n------------------------------\\n')"
   ]
  }
 ],
 "metadata": {
  "kernelspec": {
   "display_name": "demo_nlp",
   "language": "python",
   "name": "python3"
  },
  "language_info": {
   "codemirror_mode": {
    "name": "ipython",
    "version": 3
   },
   "file_extension": ".py",
   "mimetype": "text/x-python",
   "name": "python",
   "nbconvert_exporter": "python",
   "pygments_lexer": "ipython3",
   "version": "3.6.13"
  },
  "orig_nbformat": 4,
  "vscode": {
   "interpreter": {
    "hash": "d415a16b235cfd6a975719c37c658fbdd13e5b25f5b16098f8f5958ac27d9ccb"
   }
  }
 },
 "nbformat": 4,
 "nbformat_minor": 2
}
